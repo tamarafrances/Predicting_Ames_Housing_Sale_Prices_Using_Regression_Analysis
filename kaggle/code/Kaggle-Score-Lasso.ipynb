{
 "cells": [
  {
   "cell_type": "code",
   "execution_count": 1,
   "id": "c419b045-c1cb-4b1e-9b33-e64f1ddd51fd",
   "metadata": {},
   "outputs": [],
   "source": [
    "import pandas as pd\n",
    "pd.set_option(\"display.max_columns\", 40)\n",
    "import numpy as np\n",
    "import matplotlib.pyplot as plt\n",
    "import seaborn as sns\n",
    "\n",
    "from sklearn.model_selection import train_test_split, GridSearchCV\n",
    "from sklearn.linear_model import LinearRegression, LassoCV, RidgeCV, Lasso, Ridge\n",
    "from sklearn.impute import SimpleImputer     \n",
    "from sklearn.preprocessing import StandardScaler, OneHotEncoder, PolynomialFeatures\n",
    "from sklearn.metrics import r2_score, mean_absolute_error, mean_squared_error\n",
    "from sklearn.pipeline import Pipeline\n",
    "from sklearn.compose import ColumnTransformer\n",
    "\n",
    "import sys\n",
    "\n",
    "if not sys.warnoptions:\n",
    "    import warnings\n",
    "    warnings.simplefilter(\"ignore\")"
   ]
  },
  {
   "cell_type": "code",
   "execution_count": 2,
   "id": "14982f12-b132-416f-b02b-a63c1ff87593",
   "metadata": {},
   "outputs": [],
   "source": [
    "df_train = pd.read_csv('../project_data/train.csv', keep_default_na=False, na_values='')\n",
    "df_test = pd.read_csv('../project_data/test.csv', keep_default_na=False, na_values='')"
   ]
  },
  {
   "cell_type": "code",
   "execution_count": 3,
   "id": "a6170372-f804-4b38-a139-9ac2ff3b791c",
   "metadata": {},
   "outputs": [],
   "source": [
    "df_train.columns = df_train.columns.str.replace(' ','_').str.lower()\n",
    "df_test.columns = df_test.columns.str.replace(' ','_').str.lower()"
   ]
  },
  {
   "cell_type": "markdown",
   "id": "eafebb39-f41e-4df5-8ad5-01f3326fc08f",
   "metadata": {
    "jp-MarkdownHeadingCollapsed": true,
    "tags": []
   },
   "source": [
    "<br>\n",
    "\n",
    "### Data Cleaning and EDA"
   ]
  },
  {
   "cell_type": "code",
   "execution_count": 4,
   "id": "4469beb0-9d3f-413c-9b6d-ad8170c46d8a",
   "metadata": {},
   "outputs": [
    {
     "data": {
      "text/plain": [
       "((2051, 81), (878, 80))"
      ]
     },
     "execution_count": 4,
     "metadata": {},
     "output_type": "execute_result"
    }
   ],
   "source": [
    "df_train.shape, df_test.shape"
   ]
  },
  {
   "cell_type": "code",
   "execution_count": 5,
   "id": "a8e8d727-7ee3-4165-a284-ccc5d6594cbf",
   "metadata": {},
   "outputs": [
    {
     "data": {
      "text/html": [
       "<div>\n",
       "<style scoped>\n",
       "    .dataframe tbody tr th:only-of-type {\n",
       "        vertical-align: middle;\n",
       "    }\n",
       "\n",
       "    .dataframe tbody tr th {\n",
       "        vertical-align: top;\n",
       "    }\n",
       "\n",
       "    .dataframe thead th {\n",
       "        text-align: right;\n",
       "    }\n",
       "</style>\n",
       "<table border=\"1\" class=\"dataframe\">\n",
       "  <thead>\n",
       "    <tr style=\"text-align: right;\">\n",
       "      <th></th>\n",
       "      <th>id</th>\n",
       "      <th>pid</th>\n",
       "      <th>ms_subclass</th>\n",
       "      <th>ms_zoning</th>\n",
       "      <th>lot_frontage</th>\n",
       "      <th>lot_area</th>\n",
       "      <th>street</th>\n",
       "      <th>alley</th>\n",
       "      <th>lot_shape</th>\n",
       "      <th>land_contour</th>\n",
       "      <th>utilities</th>\n",
       "      <th>lot_config</th>\n",
       "      <th>land_slope</th>\n",
       "      <th>neighborhood</th>\n",
       "      <th>condition_1</th>\n",
       "      <th>condition_2</th>\n",
       "      <th>bldg_type</th>\n",
       "      <th>house_style</th>\n",
       "      <th>overall_qual</th>\n",
       "      <th>overall_cond</th>\n",
       "      <th>...</th>\n",
       "      <th>garage_finish</th>\n",
       "      <th>garage_cars</th>\n",
       "      <th>garage_area</th>\n",
       "      <th>garage_qual</th>\n",
       "      <th>garage_cond</th>\n",
       "      <th>paved_drive</th>\n",
       "      <th>wood_deck_sf</th>\n",
       "      <th>open_porch_sf</th>\n",
       "      <th>enclosed_porch</th>\n",
       "      <th>3ssn_porch</th>\n",
       "      <th>screen_porch</th>\n",
       "      <th>pool_area</th>\n",
       "      <th>pool_qc</th>\n",
       "      <th>fence</th>\n",
       "      <th>misc_feature</th>\n",
       "      <th>misc_val</th>\n",
       "      <th>mo_sold</th>\n",
       "      <th>yr_sold</th>\n",
       "      <th>sale_type</th>\n",
       "      <th>saleprice</th>\n",
       "    </tr>\n",
       "  </thead>\n",
       "  <tbody>\n",
       "    <tr>\n",
       "      <th>0</th>\n",
       "      <td>109</td>\n",
       "      <td>533352170</td>\n",
       "      <td>60</td>\n",
       "      <td>RL</td>\n",
       "      <td>NaN</td>\n",
       "      <td>13517</td>\n",
       "      <td>Pave</td>\n",
       "      <td>NA</td>\n",
       "      <td>IR1</td>\n",
       "      <td>Lvl</td>\n",
       "      <td>AllPub</td>\n",
       "      <td>CulDSac</td>\n",
       "      <td>Gtl</td>\n",
       "      <td>Sawyer</td>\n",
       "      <td>RRAe</td>\n",
       "      <td>Norm</td>\n",
       "      <td>1Fam</td>\n",
       "      <td>2Story</td>\n",
       "      <td>6</td>\n",
       "      <td>8</td>\n",
       "      <td>...</td>\n",
       "      <td>RFn</td>\n",
       "      <td>2.0</td>\n",
       "      <td>475.0</td>\n",
       "      <td>TA</td>\n",
       "      <td>TA</td>\n",
       "      <td>Y</td>\n",
       "      <td>0</td>\n",
       "      <td>44</td>\n",
       "      <td>0</td>\n",
       "      <td>0</td>\n",
       "      <td>0</td>\n",
       "      <td>0</td>\n",
       "      <td>NA</td>\n",
       "      <td>NA</td>\n",
       "      <td>NA</td>\n",
       "      <td>0</td>\n",
       "      <td>3</td>\n",
       "      <td>2010</td>\n",
       "      <td>WD</td>\n",
       "      <td>130500</td>\n",
       "    </tr>\n",
       "    <tr>\n",
       "      <th>1</th>\n",
       "      <td>544</td>\n",
       "      <td>531379050</td>\n",
       "      <td>60</td>\n",
       "      <td>RL</td>\n",
       "      <td>43.0</td>\n",
       "      <td>11492</td>\n",
       "      <td>Pave</td>\n",
       "      <td>NA</td>\n",
       "      <td>IR1</td>\n",
       "      <td>Lvl</td>\n",
       "      <td>AllPub</td>\n",
       "      <td>CulDSac</td>\n",
       "      <td>Gtl</td>\n",
       "      <td>SawyerW</td>\n",
       "      <td>Norm</td>\n",
       "      <td>Norm</td>\n",
       "      <td>1Fam</td>\n",
       "      <td>2Story</td>\n",
       "      <td>7</td>\n",
       "      <td>5</td>\n",
       "      <td>...</td>\n",
       "      <td>RFn</td>\n",
       "      <td>2.0</td>\n",
       "      <td>559.0</td>\n",
       "      <td>TA</td>\n",
       "      <td>TA</td>\n",
       "      <td>Y</td>\n",
       "      <td>0</td>\n",
       "      <td>74</td>\n",
       "      <td>0</td>\n",
       "      <td>0</td>\n",
       "      <td>0</td>\n",
       "      <td>0</td>\n",
       "      <td>NA</td>\n",
       "      <td>NA</td>\n",
       "      <td>NA</td>\n",
       "      <td>0</td>\n",
       "      <td>4</td>\n",
       "      <td>2009</td>\n",
       "      <td>WD</td>\n",
       "      <td>220000</td>\n",
       "    </tr>\n",
       "    <tr>\n",
       "      <th>2</th>\n",
       "      <td>153</td>\n",
       "      <td>535304180</td>\n",
       "      <td>20</td>\n",
       "      <td>RL</td>\n",
       "      <td>68.0</td>\n",
       "      <td>7922</td>\n",
       "      <td>Pave</td>\n",
       "      <td>NA</td>\n",
       "      <td>Reg</td>\n",
       "      <td>Lvl</td>\n",
       "      <td>AllPub</td>\n",
       "      <td>Inside</td>\n",
       "      <td>Gtl</td>\n",
       "      <td>NAmes</td>\n",
       "      <td>Norm</td>\n",
       "      <td>Norm</td>\n",
       "      <td>1Fam</td>\n",
       "      <td>1Story</td>\n",
       "      <td>5</td>\n",
       "      <td>7</td>\n",
       "      <td>...</td>\n",
       "      <td>Unf</td>\n",
       "      <td>1.0</td>\n",
       "      <td>246.0</td>\n",
       "      <td>TA</td>\n",
       "      <td>TA</td>\n",
       "      <td>Y</td>\n",
       "      <td>0</td>\n",
       "      <td>52</td>\n",
       "      <td>0</td>\n",
       "      <td>0</td>\n",
       "      <td>0</td>\n",
       "      <td>0</td>\n",
       "      <td>NA</td>\n",
       "      <td>NA</td>\n",
       "      <td>NA</td>\n",
       "      <td>0</td>\n",
       "      <td>1</td>\n",
       "      <td>2010</td>\n",
       "      <td>WD</td>\n",
       "      <td>109000</td>\n",
       "    </tr>\n",
       "    <tr>\n",
       "      <th>3</th>\n",
       "      <td>318</td>\n",
       "      <td>916386060</td>\n",
       "      <td>60</td>\n",
       "      <td>RL</td>\n",
       "      <td>73.0</td>\n",
       "      <td>9802</td>\n",
       "      <td>Pave</td>\n",
       "      <td>NA</td>\n",
       "      <td>Reg</td>\n",
       "      <td>Lvl</td>\n",
       "      <td>AllPub</td>\n",
       "      <td>Inside</td>\n",
       "      <td>Gtl</td>\n",
       "      <td>Timber</td>\n",
       "      <td>Norm</td>\n",
       "      <td>Norm</td>\n",
       "      <td>1Fam</td>\n",
       "      <td>2Story</td>\n",
       "      <td>5</td>\n",
       "      <td>5</td>\n",
       "      <td>...</td>\n",
       "      <td>Fin</td>\n",
       "      <td>2.0</td>\n",
       "      <td>400.0</td>\n",
       "      <td>TA</td>\n",
       "      <td>TA</td>\n",
       "      <td>Y</td>\n",
       "      <td>100</td>\n",
       "      <td>0</td>\n",
       "      <td>0</td>\n",
       "      <td>0</td>\n",
       "      <td>0</td>\n",
       "      <td>0</td>\n",
       "      <td>NA</td>\n",
       "      <td>NA</td>\n",
       "      <td>NA</td>\n",
       "      <td>0</td>\n",
       "      <td>4</td>\n",
       "      <td>2010</td>\n",
       "      <td>WD</td>\n",
       "      <td>174000</td>\n",
       "    </tr>\n",
       "    <tr>\n",
       "      <th>4</th>\n",
       "      <td>255</td>\n",
       "      <td>906425045</td>\n",
       "      <td>50</td>\n",
       "      <td>RL</td>\n",
       "      <td>82.0</td>\n",
       "      <td>14235</td>\n",
       "      <td>Pave</td>\n",
       "      <td>NA</td>\n",
       "      <td>IR1</td>\n",
       "      <td>Lvl</td>\n",
       "      <td>AllPub</td>\n",
       "      <td>Inside</td>\n",
       "      <td>Gtl</td>\n",
       "      <td>SawyerW</td>\n",
       "      <td>Norm</td>\n",
       "      <td>Norm</td>\n",
       "      <td>1Fam</td>\n",
       "      <td>1.5Fin</td>\n",
       "      <td>6</td>\n",
       "      <td>8</td>\n",
       "      <td>...</td>\n",
       "      <td>Unf</td>\n",
       "      <td>2.0</td>\n",
       "      <td>484.0</td>\n",
       "      <td>TA</td>\n",
       "      <td>TA</td>\n",
       "      <td>N</td>\n",
       "      <td>0</td>\n",
       "      <td>59</td>\n",
       "      <td>0</td>\n",
       "      <td>0</td>\n",
       "      <td>0</td>\n",
       "      <td>0</td>\n",
       "      <td>NA</td>\n",
       "      <td>NA</td>\n",
       "      <td>NA</td>\n",
       "      <td>0</td>\n",
       "      <td>3</td>\n",
       "      <td>2010</td>\n",
       "      <td>WD</td>\n",
       "      <td>138500</td>\n",
       "    </tr>\n",
       "  </tbody>\n",
       "</table>\n",
       "<p>5 rows × 81 columns</p>\n",
       "</div>"
      ],
      "text/plain": [
       "    id        pid  ms_subclass ms_zoning  lot_frontage  lot_area street alley  \\\n",
       "0  109  533352170           60        RL           NaN     13517   Pave    NA   \n",
       "1  544  531379050           60        RL          43.0     11492   Pave    NA   \n",
       "2  153  535304180           20        RL          68.0      7922   Pave    NA   \n",
       "3  318  916386060           60        RL          73.0      9802   Pave    NA   \n",
       "4  255  906425045           50        RL          82.0     14235   Pave    NA   \n",
       "\n",
       "  lot_shape land_contour utilities lot_config land_slope neighborhood  \\\n",
       "0       IR1          Lvl    AllPub    CulDSac        Gtl       Sawyer   \n",
       "1       IR1          Lvl    AllPub    CulDSac        Gtl      SawyerW   \n",
       "2       Reg          Lvl    AllPub     Inside        Gtl        NAmes   \n",
       "3       Reg          Lvl    AllPub     Inside        Gtl       Timber   \n",
       "4       IR1          Lvl    AllPub     Inside        Gtl      SawyerW   \n",
       "\n",
       "  condition_1 condition_2 bldg_type house_style  overall_qual  overall_cond  \\\n",
       "0        RRAe        Norm      1Fam      2Story             6             8   \n",
       "1        Norm        Norm      1Fam      2Story             7             5   \n",
       "2        Norm        Norm      1Fam      1Story             5             7   \n",
       "3        Norm        Norm      1Fam      2Story             5             5   \n",
       "4        Norm        Norm      1Fam      1.5Fin             6             8   \n",
       "\n",
       "   ...  garage_finish  garage_cars garage_area garage_qual garage_cond  \\\n",
       "0  ...            RFn          2.0       475.0          TA          TA   \n",
       "1  ...            RFn          2.0       559.0          TA          TA   \n",
       "2  ...            Unf          1.0       246.0          TA          TA   \n",
       "3  ...            Fin          2.0       400.0          TA          TA   \n",
       "4  ...            Unf          2.0       484.0          TA          TA   \n",
       "\n",
       "  paved_drive wood_deck_sf  open_porch_sf enclosed_porch 3ssn_porch  \\\n",
       "0           Y            0             44              0          0   \n",
       "1           Y            0             74              0          0   \n",
       "2           Y            0             52              0          0   \n",
       "3           Y          100              0              0          0   \n",
       "4           N            0             59              0          0   \n",
       "\n",
       "  screen_porch pool_area pool_qc fence misc_feature  misc_val mo_sold  \\\n",
       "0            0         0      NA    NA           NA         0       3   \n",
       "1            0         0      NA    NA           NA         0       4   \n",
       "2            0         0      NA    NA           NA         0       1   \n",
       "3            0         0      NA    NA           NA         0       4   \n",
       "4            0         0      NA    NA           NA         0       3   \n",
       "\n",
       "   yr_sold  sale_type  saleprice  \n",
       "0     2010        WD      130500  \n",
       "1     2009        WD      220000  \n",
       "2     2010        WD      109000  \n",
       "3     2010        WD      174000  \n",
       "4     2010        WD      138500  \n",
       "\n",
       "[5 rows x 81 columns]"
      ]
     },
     "execution_count": 5,
     "metadata": {},
     "output_type": "execute_result"
    }
   ],
   "source": [
    "df_train.head()"
   ]
  },
  {
   "cell_type": "code",
   "execution_count": 6,
   "id": "b962a371-8ada-45b4-a888-7f6de355d9ec",
   "metadata": {},
   "outputs": [
    {
     "data": {
      "text/html": [
       "<div>\n",
       "<style scoped>\n",
       "    .dataframe tbody tr th:only-of-type {\n",
       "        vertical-align: middle;\n",
       "    }\n",
       "\n",
       "    .dataframe tbody tr th {\n",
       "        vertical-align: top;\n",
       "    }\n",
       "\n",
       "    .dataframe thead th {\n",
       "        text-align: right;\n",
       "    }\n",
       "</style>\n",
       "<table border=\"1\" class=\"dataframe\">\n",
       "  <thead>\n",
       "    <tr style=\"text-align: right;\">\n",
       "      <th></th>\n",
       "      <th>id</th>\n",
       "      <th>pid</th>\n",
       "      <th>ms_subclass</th>\n",
       "      <th>lot_frontage</th>\n",
       "      <th>lot_area</th>\n",
       "      <th>overall_qual</th>\n",
       "      <th>overall_cond</th>\n",
       "      <th>year_built</th>\n",
       "      <th>year_remod/add</th>\n",
       "      <th>mas_vnr_area</th>\n",
       "      <th>bsmtfin_sf_1</th>\n",
       "      <th>bsmtfin_sf_2</th>\n",
       "      <th>bsmt_unf_sf</th>\n",
       "      <th>total_bsmt_sf</th>\n",
       "      <th>1st_flr_sf</th>\n",
       "      <th>2nd_flr_sf</th>\n",
       "      <th>low_qual_fin_sf</th>\n",
       "      <th>gr_liv_area</th>\n",
       "      <th>bsmt_full_bath</th>\n",
       "      <th>bsmt_half_bath</th>\n",
       "      <th>full_bath</th>\n",
       "      <th>half_bath</th>\n",
       "      <th>bedroom_abvgr</th>\n",
       "      <th>kitchen_abvgr</th>\n",
       "      <th>totrms_abvgrd</th>\n",
       "      <th>fireplaces</th>\n",
       "      <th>garage_yr_blt</th>\n",
       "      <th>garage_cars</th>\n",
       "      <th>garage_area</th>\n",
       "      <th>wood_deck_sf</th>\n",
       "      <th>open_porch_sf</th>\n",
       "      <th>enclosed_porch</th>\n",
       "      <th>3ssn_porch</th>\n",
       "      <th>screen_porch</th>\n",
       "      <th>pool_area</th>\n",
       "      <th>misc_val</th>\n",
       "      <th>mo_sold</th>\n",
       "      <th>yr_sold</th>\n",
       "      <th>saleprice</th>\n",
       "    </tr>\n",
       "  </thead>\n",
       "  <tbody>\n",
       "    <tr>\n",
       "      <th>count</th>\n",
       "      <td>2051.000000</td>\n",
       "      <td>2.051000e+03</td>\n",
       "      <td>2051.000000</td>\n",
       "      <td>1721.000000</td>\n",
       "      <td>2051.000000</td>\n",
       "      <td>2051.000000</td>\n",
       "      <td>2051.000000</td>\n",
       "      <td>2051.000000</td>\n",
       "      <td>2051.000000</td>\n",
       "      <td>2029.000000</td>\n",
       "      <td>2050.000000</td>\n",
       "      <td>2050.000000</td>\n",
       "      <td>2050.000000</td>\n",
       "      <td>2050.000000</td>\n",
       "      <td>2051.000000</td>\n",
       "      <td>2051.000000</td>\n",
       "      <td>2051.000000</td>\n",
       "      <td>2051.000000</td>\n",
       "      <td>2049.000000</td>\n",
       "      <td>2049.000000</td>\n",
       "      <td>2051.000000</td>\n",
       "      <td>2051.000000</td>\n",
       "      <td>2051.000000</td>\n",
       "      <td>2051.000000</td>\n",
       "      <td>2051.000000</td>\n",
       "      <td>2051.000000</td>\n",
       "      <td>1937.000000</td>\n",
       "      <td>2050.000000</td>\n",
       "      <td>2050.000000</td>\n",
       "      <td>2051.000000</td>\n",
       "      <td>2051.000000</td>\n",
       "      <td>2051.000000</td>\n",
       "      <td>2051.000000</td>\n",
       "      <td>2051.000000</td>\n",
       "      <td>2051.000000</td>\n",
       "      <td>2051.000000</td>\n",
       "      <td>2051.000000</td>\n",
       "      <td>2051.000000</td>\n",
       "      <td>2051.000000</td>\n",
       "    </tr>\n",
       "    <tr>\n",
       "      <th>mean</th>\n",
       "      <td>1474.033642</td>\n",
       "      <td>7.135900e+08</td>\n",
       "      <td>57.008776</td>\n",
       "      <td>69.055200</td>\n",
       "      <td>10065.208191</td>\n",
       "      <td>6.112140</td>\n",
       "      <td>5.562165</td>\n",
       "      <td>1971.708922</td>\n",
       "      <td>1984.190151</td>\n",
       "      <td>99.695909</td>\n",
       "      <td>442.300488</td>\n",
       "      <td>47.959024</td>\n",
       "      <td>567.728293</td>\n",
       "      <td>1057.987805</td>\n",
       "      <td>1164.488055</td>\n",
       "      <td>329.329108</td>\n",
       "      <td>5.512921</td>\n",
       "      <td>1499.330083</td>\n",
       "      <td>0.427526</td>\n",
       "      <td>0.063446</td>\n",
       "      <td>1.577279</td>\n",
       "      <td>0.371039</td>\n",
       "      <td>2.843491</td>\n",
       "      <td>1.042906</td>\n",
       "      <td>6.435885</td>\n",
       "      <td>0.590931</td>\n",
       "      <td>1978.707796</td>\n",
       "      <td>1.776585</td>\n",
       "      <td>473.671707</td>\n",
       "      <td>93.833740</td>\n",
       "      <td>47.556802</td>\n",
       "      <td>22.571916</td>\n",
       "      <td>2.591419</td>\n",
       "      <td>16.511458</td>\n",
       "      <td>2.397855</td>\n",
       "      <td>51.574354</td>\n",
       "      <td>6.219893</td>\n",
       "      <td>2007.775719</td>\n",
       "      <td>181469.701609</td>\n",
       "    </tr>\n",
       "    <tr>\n",
       "      <th>std</th>\n",
       "      <td>843.980841</td>\n",
       "      <td>1.886918e+08</td>\n",
       "      <td>42.824223</td>\n",
       "      <td>23.260653</td>\n",
       "      <td>6742.488909</td>\n",
       "      <td>1.426271</td>\n",
       "      <td>1.104497</td>\n",
       "      <td>30.177889</td>\n",
       "      <td>21.036250</td>\n",
       "      <td>174.963129</td>\n",
       "      <td>461.204124</td>\n",
       "      <td>165.000901</td>\n",
       "      <td>444.954786</td>\n",
       "      <td>449.410704</td>\n",
       "      <td>396.446923</td>\n",
       "      <td>425.671046</td>\n",
       "      <td>51.068870</td>\n",
       "      <td>500.447829</td>\n",
       "      <td>0.522673</td>\n",
       "      <td>0.251705</td>\n",
       "      <td>0.549279</td>\n",
       "      <td>0.501043</td>\n",
       "      <td>0.826618</td>\n",
       "      <td>0.209790</td>\n",
       "      <td>1.560225</td>\n",
       "      <td>0.638516</td>\n",
       "      <td>25.441094</td>\n",
       "      <td>0.764537</td>\n",
       "      <td>215.934561</td>\n",
       "      <td>128.549416</td>\n",
       "      <td>66.747241</td>\n",
       "      <td>59.845110</td>\n",
       "      <td>25.229615</td>\n",
       "      <td>57.374204</td>\n",
       "      <td>37.782570</td>\n",
       "      <td>573.393985</td>\n",
       "      <td>2.744736</td>\n",
       "      <td>1.312014</td>\n",
       "      <td>79258.659352</td>\n",
       "    </tr>\n",
       "    <tr>\n",
       "      <th>min</th>\n",
       "      <td>1.000000</td>\n",
       "      <td>5.263011e+08</td>\n",
       "      <td>20.000000</td>\n",
       "      <td>21.000000</td>\n",
       "      <td>1300.000000</td>\n",
       "      <td>1.000000</td>\n",
       "      <td>1.000000</td>\n",
       "      <td>1872.000000</td>\n",
       "      <td>1950.000000</td>\n",
       "      <td>0.000000</td>\n",
       "      <td>0.000000</td>\n",
       "      <td>0.000000</td>\n",
       "      <td>0.000000</td>\n",
       "      <td>0.000000</td>\n",
       "      <td>334.000000</td>\n",
       "      <td>0.000000</td>\n",
       "      <td>0.000000</td>\n",
       "      <td>334.000000</td>\n",
       "      <td>0.000000</td>\n",
       "      <td>0.000000</td>\n",
       "      <td>0.000000</td>\n",
       "      <td>0.000000</td>\n",
       "      <td>0.000000</td>\n",
       "      <td>0.000000</td>\n",
       "      <td>2.000000</td>\n",
       "      <td>0.000000</td>\n",
       "      <td>1895.000000</td>\n",
       "      <td>0.000000</td>\n",
       "      <td>0.000000</td>\n",
       "      <td>0.000000</td>\n",
       "      <td>0.000000</td>\n",
       "      <td>0.000000</td>\n",
       "      <td>0.000000</td>\n",
       "      <td>0.000000</td>\n",
       "      <td>0.000000</td>\n",
       "      <td>0.000000</td>\n",
       "      <td>1.000000</td>\n",
       "      <td>2006.000000</td>\n",
       "      <td>12789.000000</td>\n",
       "    </tr>\n",
       "    <tr>\n",
       "      <th>25%</th>\n",
       "      <td>753.500000</td>\n",
       "      <td>5.284581e+08</td>\n",
       "      <td>20.000000</td>\n",
       "      <td>58.000000</td>\n",
       "      <td>7500.000000</td>\n",
       "      <td>5.000000</td>\n",
       "      <td>5.000000</td>\n",
       "      <td>1953.500000</td>\n",
       "      <td>1964.500000</td>\n",
       "      <td>0.000000</td>\n",
       "      <td>0.000000</td>\n",
       "      <td>0.000000</td>\n",
       "      <td>220.000000</td>\n",
       "      <td>793.000000</td>\n",
       "      <td>879.500000</td>\n",
       "      <td>0.000000</td>\n",
       "      <td>0.000000</td>\n",
       "      <td>1129.000000</td>\n",
       "      <td>0.000000</td>\n",
       "      <td>0.000000</td>\n",
       "      <td>1.000000</td>\n",
       "      <td>0.000000</td>\n",
       "      <td>2.000000</td>\n",
       "      <td>1.000000</td>\n",
       "      <td>5.000000</td>\n",
       "      <td>0.000000</td>\n",
       "      <td>1961.000000</td>\n",
       "      <td>1.000000</td>\n",
       "      <td>319.000000</td>\n",
       "      <td>0.000000</td>\n",
       "      <td>0.000000</td>\n",
       "      <td>0.000000</td>\n",
       "      <td>0.000000</td>\n",
       "      <td>0.000000</td>\n",
       "      <td>0.000000</td>\n",
       "      <td>0.000000</td>\n",
       "      <td>4.000000</td>\n",
       "      <td>2007.000000</td>\n",
       "      <td>129825.000000</td>\n",
       "    </tr>\n",
       "    <tr>\n",
       "      <th>50%</th>\n",
       "      <td>1486.000000</td>\n",
       "      <td>5.354532e+08</td>\n",
       "      <td>50.000000</td>\n",
       "      <td>68.000000</td>\n",
       "      <td>9430.000000</td>\n",
       "      <td>6.000000</td>\n",
       "      <td>5.000000</td>\n",
       "      <td>1974.000000</td>\n",
       "      <td>1993.000000</td>\n",
       "      <td>0.000000</td>\n",
       "      <td>368.000000</td>\n",
       "      <td>0.000000</td>\n",
       "      <td>474.500000</td>\n",
       "      <td>994.500000</td>\n",
       "      <td>1093.000000</td>\n",
       "      <td>0.000000</td>\n",
       "      <td>0.000000</td>\n",
       "      <td>1444.000000</td>\n",
       "      <td>0.000000</td>\n",
       "      <td>0.000000</td>\n",
       "      <td>2.000000</td>\n",
       "      <td>0.000000</td>\n",
       "      <td>3.000000</td>\n",
       "      <td>1.000000</td>\n",
       "      <td>6.000000</td>\n",
       "      <td>1.000000</td>\n",
       "      <td>1980.000000</td>\n",
       "      <td>2.000000</td>\n",
       "      <td>480.000000</td>\n",
       "      <td>0.000000</td>\n",
       "      <td>27.000000</td>\n",
       "      <td>0.000000</td>\n",
       "      <td>0.000000</td>\n",
       "      <td>0.000000</td>\n",
       "      <td>0.000000</td>\n",
       "      <td>0.000000</td>\n",
       "      <td>6.000000</td>\n",
       "      <td>2008.000000</td>\n",
       "      <td>162500.000000</td>\n",
       "    </tr>\n",
       "    <tr>\n",
       "      <th>75%</th>\n",
       "      <td>2198.000000</td>\n",
       "      <td>9.071801e+08</td>\n",
       "      <td>70.000000</td>\n",
       "      <td>80.000000</td>\n",
       "      <td>11513.500000</td>\n",
       "      <td>7.000000</td>\n",
       "      <td>6.000000</td>\n",
       "      <td>2001.000000</td>\n",
       "      <td>2004.000000</td>\n",
       "      <td>161.000000</td>\n",
       "      <td>733.750000</td>\n",
       "      <td>0.000000</td>\n",
       "      <td>811.000000</td>\n",
       "      <td>1318.750000</td>\n",
       "      <td>1405.000000</td>\n",
       "      <td>692.500000</td>\n",
       "      <td>0.000000</td>\n",
       "      <td>1728.500000</td>\n",
       "      <td>1.000000</td>\n",
       "      <td>0.000000</td>\n",
       "      <td>2.000000</td>\n",
       "      <td>1.000000</td>\n",
       "      <td>3.000000</td>\n",
       "      <td>1.000000</td>\n",
       "      <td>7.000000</td>\n",
       "      <td>1.000000</td>\n",
       "      <td>2002.000000</td>\n",
       "      <td>2.000000</td>\n",
       "      <td>576.000000</td>\n",
       "      <td>168.000000</td>\n",
       "      <td>70.000000</td>\n",
       "      <td>0.000000</td>\n",
       "      <td>0.000000</td>\n",
       "      <td>0.000000</td>\n",
       "      <td>0.000000</td>\n",
       "      <td>0.000000</td>\n",
       "      <td>8.000000</td>\n",
       "      <td>2009.000000</td>\n",
       "      <td>214000.000000</td>\n",
       "    </tr>\n",
       "    <tr>\n",
       "      <th>max</th>\n",
       "      <td>2930.000000</td>\n",
       "      <td>9.241520e+08</td>\n",
       "      <td>190.000000</td>\n",
       "      <td>313.000000</td>\n",
       "      <td>159000.000000</td>\n",
       "      <td>10.000000</td>\n",
       "      <td>9.000000</td>\n",
       "      <td>2010.000000</td>\n",
       "      <td>2010.000000</td>\n",
       "      <td>1600.000000</td>\n",
       "      <td>5644.000000</td>\n",
       "      <td>1474.000000</td>\n",
       "      <td>2336.000000</td>\n",
       "      <td>6110.000000</td>\n",
       "      <td>5095.000000</td>\n",
       "      <td>1862.000000</td>\n",
       "      <td>1064.000000</td>\n",
       "      <td>5642.000000</td>\n",
       "      <td>3.000000</td>\n",
       "      <td>2.000000</td>\n",
       "      <td>4.000000</td>\n",
       "      <td>2.000000</td>\n",
       "      <td>8.000000</td>\n",
       "      <td>3.000000</td>\n",
       "      <td>15.000000</td>\n",
       "      <td>4.000000</td>\n",
       "      <td>2207.000000</td>\n",
       "      <td>5.000000</td>\n",
       "      <td>1418.000000</td>\n",
       "      <td>1424.000000</td>\n",
       "      <td>547.000000</td>\n",
       "      <td>432.000000</td>\n",
       "      <td>508.000000</td>\n",
       "      <td>490.000000</td>\n",
       "      <td>800.000000</td>\n",
       "      <td>17000.000000</td>\n",
       "      <td>12.000000</td>\n",
       "      <td>2010.000000</td>\n",
       "      <td>611657.000000</td>\n",
       "    </tr>\n",
       "  </tbody>\n",
       "</table>\n",
       "</div>"
      ],
      "text/plain": [
       "                id           pid  ms_subclass  lot_frontage       lot_area  \\\n",
       "count  2051.000000  2.051000e+03  2051.000000   1721.000000    2051.000000   \n",
       "mean   1474.033642  7.135900e+08    57.008776     69.055200   10065.208191   \n",
       "std     843.980841  1.886918e+08    42.824223     23.260653    6742.488909   \n",
       "min       1.000000  5.263011e+08    20.000000     21.000000    1300.000000   \n",
       "25%     753.500000  5.284581e+08    20.000000     58.000000    7500.000000   \n",
       "50%    1486.000000  5.354532e+08    50.000000     68.000000    9430.000000   \n",
       "75%    2198.000000  9.071801e+08    70.000000     80.000000   11513.500000   \n",
       "max    2930.000000  9.241520e+08   190.000000    313.000000  159000.000000   \n",
       "\n",
       "       overall_qual  overall_cond   year_built  year_remod/add  mas_vnr_area  \\\n",
       "count   2051.000000   2051.000000  2051.000000     2051.000000   2029.000000   \n",
       "mean       6.112140      5.562165  1971.708922     1984.190151     99.695909   \n",
       "std        1.426271      1.104497    30.177889       21.036250    174.963129   \n",
       "min        1.000000      1.000000  1872.000000     1950.000000      0.000000   \n",
       "25%        5.000000      5.000000  1953.500000     1964.500000      0.000000   \n",
       "50%        6.000000      5.000000  1974.000000     1993.000000      0.000000   \n",
       "75%        7.000000      6.000000  2001.000000     2004.000000    161.000000   \n",
       "max       10.000000      9.000000  2010.000000     2010.000000   1600.000000   \n",
       "\n",
       "       bsmtfin_sf_1  bsmtfin_sf_2  bsmt_unf_sf  total_bsmt_sf   1st_flr_sf  \\\n",
       "count   2050.000000   2050.000000  2050.000000    2050.000000  2051.000000   \n",
       "mean     442.300488     47.959024   567.728293    1057.987805  1164.488055   \n",
       "std      461.204124    165.000901   444.954786     449.410704   396.446923   \n",
       "min        0.000000      0.000000     0.000000       0.000000   334.000000   \n",
       "25%        0.000000      0.000000   220.000000     793.000000   879.500000   \n",
       "50%      368.000000      0.000000   474.500000     994.500000  1093.000000   \n",
       "75%      733.750000      0.000000   811.000000    1318.750000  1405.000000   \n",
       "max     5644.000000   1474.000000  2336.000000    6110.000000  5095.000000   \n",
       "\n",
       "        2nd_flr_sf  low_qual_fin_sf  gr_liv_area  bsmt_full_bath  \\\n",
       "count  2051.000000      2051.000000  2051.000000     2049.000000   \n",
       "mean    329.329108         5.512921  1499.330083        0.427526   \n",
       "std     425.671046        51.068870   500.447829        0.522673   \n",
       "min       0.000000         0.000000   334.000000        0.000000   \n",
       "25%       0.000000         0.000000  1129.000000        0.000000   \n",
       "50%       0.000000         0.000000  1444.000000        0.000000   \n",
       "75%     692.500000         0.000000  1728.500000        1.000000   \n",
       "max    1862.000000      1064.000000  5642.000000        3.000000   \n",
       "\n",
       "       bsmt_half_bath    full_bath    half_bath  bedroom_abvgr  kitchen_abvgr  \\\n",
       "count     2049.000000  2051.000000  2051.000000    2051.000000    2051.000000   \n",
       "mean         0.063446     1.577279     0.371039       2.843491       1.042906   \n",
       "std          0.251705     0.549279     0.501043       0.826618       0.209790   \n",
       "min          0.000000     0.000000     0.000000       0.000000       0.000000   \n",
       "25%          0.000000     1.000000     0.000000       2.000000       1.000000   \n",
       "50%          0.000000     2.000000     0.000000       3.000000       1.000000   \n",
       "75%          0.000000     2.000000     1.000000       3.000000       1.000000   \n",
       "max          2.000000     4.000000     2.000000       8.000000       3.000000   \n",
       "\n",
       "       totrms_abvgrd   fireplaces  garage_yr_blt  garage_cars  garage_area  \\\n",
       "count    2051.000000  2051.000000    1937.000000  2050.000000  2050.000000   \n",
       "mean        6.435885     0.590931    1978.707796     1.776585   473.671707   \n",
       "std         1.560225     0.638516      25.441094     0.764537   215.934561   \n",
       "min         2.000000     0.000000    1895.000000     0.000000     0.000000   \n",
       "25%         5.000000     0.000000    1961.000000     1.000000   319.000000   \n",
       "50%         6.000000     1.000000    1980.000000     2.000000   480.000000   \n",
       "75%         7.000000     1.000000    2002.000000     2.000000   576.000000   \n",
       "max        15.000000     4.000000    2207.000000     5.000000  1418.000000   \n",
       "\n",
       "       wood_deck_sf  open_porch_sf  enclosed_porch   3ssn_porch  screen_porch  \\\n",
       "count   2051.000000    2051.000000     2051.000000  2051.000000   2051.000000   \n",
       "mean      93.833740      47.556802       22.571916     2.591419     16.511458   \n",
       "std      128.549416      66.747241       59.845110    25.229615     57.374204   \n",
       "min        0.000000       0.000000        0.000000     0.000000      0.000000   \n",
       "25%        0.000000       0.000000        0.000000     0.000000      0.000000   \n",
       "50%        0.000000      27.000000        0.000000     0.000000      0.000000   \n",
       "75%      168.000000      70.000000        0.000000     0.000000      0.000000   \n",
       "max     1424.000000     547.000000      432.000000   508.000000    490.000000   \n",
       "\n",
       "         pool_area      misc_val      mo_sold      yr_sold      saleprice  \n",
       "count  2051.000000   2051.000000  2051.000000  2051.000000    2051.000000  \n",
       "mean      2.397855     51.574354     6.219893  2007.775719  181469.701609  \n",
       "std      37.782570    573.393985     2.744736     1.312014   79258.659352  \n",
       "min       0.000000      0.000000     1.000000  2006.000000   12789.000000  \n",
       "25%       0.000000      0.000000     4.000000  2007.000000  129825.000000  \n",
       "50%       0.000000      0.000000     6.000000  2008.000000  162500.000000  \n",
       "75%       0.000000      0.000000     8.000000  2009.000000  214000.000000  \n",
       "max     800.000000  17000.000000    12.000000  2010.000000  611657.000000  "
      ]
     },
     "execution_count": 6,
     "metadata": {},
     "output_type": "execute_result"
    }
   ],
   "source": [
    "df_train.describe()"
   ]
  },
  {
   "cell_type": "code",
   "execution_count": 7,
   "id": "47114ce7-3a6e-4ac0-8599-eb35bba79a9a",
   "metadata": {},
   "outputs": [
    {
     "name": "stdout",
     "output_type": "stream",
     "text": [
      "<class 'pandas.core.frame.DataFrame'>\n",
      "RangeIndex: 2051 entries, 0 to 2050\n",
      "Data columns (total 81 columns):\n",
      " #   Column           Non-Null Count  Dtype  \n",
      "---  ------           --------------  -----  \n",
      " 0   id               2051 non-null   int64  \n",
      " 1   pid              2051 non-null   int64  \n",
      " 2   ms_subclass      2051 non-null   int64  \n",
      " 3   ms_zoning        2051 non-null   object \n",
      " 4   lot_frontage     1721 non-null   float64\n",
      " 5   lot_area         2051 non-null   int64  \n",
      " 6   street           2051 non-null   object \n",
      " 7   alley            2051 non-null   object \n",
      " 8   lot_shape        2051 non-null   object \n",
      " 9   land_contour     2051 non-null   object \n",
      " 10  utilities        2051 non-null   object \n",
      " 11  lot_config       2051 non-null   object \n",
      " 12  land_slope       2051 non-null   object \n",
      " 13  neighborhood     2051 non-null   object \n",
      " 14  condition_1      2051 non-null   object \n",
      " 15  condition_2      2051 non-null   object \n",
      " 16  bldg_type        2051 non-null   object \n",
      " 17  house_style      2051 non-null   object \n",
      " 18  overall_qual     2051 non-null   int64  \n",
      " 19  overall_cond     2051 non-null   int64  \n",
      " 20  year_built       2051 non-null   int64  \n",
      " 21  year_remod/add   2051 non-null   int64  \n",
      " 22  roof_style       2051 non-null   object \n",
      " 23  roof_matl        2051 non-null   object \n",
      " 24  exterior_1st     2051 non-null   object \n",
      " 25  exterior_2nd     2051 non-null   object \n",
      " 26  mas_vnr_type     2029 non-null   object \n",
      " 27  mas_vnr_area     2029 non-null   float64\n",
      " 28  exter_qual       2051 non-null   object \n",
      " 29  exter_cond       2051 non-null   object \n",
      " 30  foundation       2051 non-null   object \n",
      " 31  bsmt_qual        2050 non-null   object \n",
      " 32  bsmt_cond        2050 non-null   object \n",
      " 33  bsmt_exposure    2047 non-null   object \n",
      " 34  bsmtfin_type_1   2050 non-null   object \n",
      " 35  bsmtfin_sf_1     2050 non-null   float64\n",
      " 36  bsmtfin_type_2   2049 non-null   object \n",
      " 37  bsmtfin_sf_2     2050 non-null   float64\n",
      " 38  bsmt_unf_sf      2050 non-null   float64\n",
      " 39  total_bsmt_sf    2050 non-null   float64\n",
      " 40  heating          2051 non-null   object \n",
      " 41  heating_qc       2051 non-null   object \n",
      " 42  central_air      2051 non-null   object \n",
      " 43  electrical       2051 non-null   object \n",
      " 44  1st_flr_sf       2051 non-null   int64  \n",
      " 45  2nd_flr_sf       2051 non-null   int64  \n",
      " 46  low_qual_fin_sf  2051 non-null   int64  \n",
      " 47  gr_liv_area      2051 non-null   int64  \n",
      " 48  bsmt_full_bath   2049 non-null   float64\n",
      " 49  bsmt_half_bath   2049 non-null   float64\n",
      " 50  full_bath        2051 non-null   int64  \n",
      " 51  half_bath        2051 non-null   int64  \n",
      " 52  bedroom_abvgr    2051 non-null   int64  \n",
      " 53  kitchen_abvgr    2051 non-null   int64  \n",
      " 54  kitchen_qual     2051 non-null   object \n",
      " 55  totrms_abvgrd    2051 non-null   int64  \n",
      " 56  functional       2051 non-null   object \n",
      " 57  fireplaces       2051 non-null   int64  \n",
      " 58  fireplace_qu     2051 non-null   object \n",
      " 59  garage_type      2051 non-null   object \n",
      " 60  garage_yr_blt    1937 non-null   float64\n",
      " 61  garage_finish    2050 non-null   object \n",
      " 62  garage_cars      2050 non-null   float64\n",
      " 63  garage_area      2050 non-null   float64\n",
      " 64  garage_qual      2050 non-null   object \n",
      " 65  garage_cond      2050 non-null   object \n",
      " 66  paved_drive      2051 non-null   object \n",
      " 67  wood_deck_sf     2051 non-null   int64  \n",
      " 68  open_porch_sf    2051 non-null   int64  \n",
      " 69  enclosed_porch   2051 non-null   int64  \n",
      " 70  3ssn_porch       2051 non-null   int64  \n",
      " 71  screen_porch     2051 non-null   int64  \n",
      " 72  pool_area        2051 non-null   int64  \n",
      " 73  pool_qc          2051 non-null   object \n",
      " 74  fence            2051 non-null   object \n",
      " 75  misc_feature     2051 non-null   object \n",
      " 76  misc_val         2051 non-null   int64  \n",
      " 77  mo_sold          2051 non-null   int64  \n",
      " 78  yr_sold          2051 non-null   int64  \n",
      " 79  sale_type        2051 non-null   object \n",
      " 80  saleprice        2051 non-null   int64  \n",
      "dtypes: float64(11), int64(28), object(42)\n",
      "memory usage: 1.3+ MB\n"
     ]
    }
   ],
   "source": [
    "df_train.info()"
   ]
  },
  {
   "cell_type": "code",
   "execution_count": 8,
   "id": "e9fb4082-52a9-49a8-811a-c8ad05d1a194",
   "metadata": {},
   "outputs": [],
   "source": [
    "#columns with the following ratings: Ex, Gd, TA, Fa, Po, and maybe NA\n",
    "\n",
    "column_list = ['exter_qual', 'exter_cond', 'bsmt_qual', 'bsmt_cond', 'heating_qc','kitchen_qual','fireplace_qu','garage_qual','pool_qc']"
   ]
  },
  {
   "cell_type": "code",
   "execution_count": 9,
   "id": "56c84acc-3b43-4f18-b864-329c3cdb65a4",
   "metadata": {},
   "outputs": [],
   "source": [
    "#function to add 0 to NA\n",
    "def ex_gd_etc(df, column_list):\n",
    "    for column in column_list:\n",
    "        df[column] = df[column].map({'Ex':5, 'Gd':4, 'TA':3, 'Fa':2, 'Po':1, 'NA':0})"
   ]
  },
  {
   "cell_type": "code",
   "execution_count": 10,
   "id": "e0de2170-42bc-4ca6-8f67-e8767c751244",
   "metadata": {},
   "outputs": [],
   "source": [
    "ex_gd_etc(df_train, column_list)\n",
    "ex_gd_etc(df_test, column_list)"
   ]
  },
  {
   "cell_type": "code",
   "execution_count": 11,
   "id": "67cdcd5d-e949-4e9a-a3aa-84d207b23c50",
   "metadata": {},
   "outputs": [],
   "source": [
    "df_train['lot_shape'].map({'Reg':3, 'IR1':2, 'IR2':1, 'IR3':0})\n",
    "df_train['utilities'].map({'AllPub':3, 'NoSewr':2, 'NoSeWa':1, 'ELO':0})\n",
    "df_train['land_slope'].map({'Gtl':2, 'Mod':1, 'Sev':0})\n",
    "df_train['bsmt_exposure'].map({'Gd':4, 'Av':3, 'Mn':2, 'No':1, 'NA':0})\n",
    "df_train['bsmtfin_type_1'].map({'GLQ':6, 'ALQ':5, 'BLQ':4, 'Rec':3, 'LwQ':2, 'Unf':1, 'NA':0})\n",
    "df_train['bsmtfin_type_2'].map({'GLQ':6, 'ALQ':5, 'BLQ':4, 'Rec':3, 'LwQ':2, 'Unf':1, 'NA':0})\n",
    "df_train['electrical'].map({'SBrkr':4, 'FuseA':3, 'FuseF':2, 'FuseP':1, 'Mix':2})\n",
    "df_train['functional'].map({'Typ':7, 'Min1':6, 'Min2':5, 'Mod':4, 'Maj1':3, 'Maj2':2, 'Sev':1, 'Sal':0})\n",
    "df_train['garage_finish'].map({'Fin':3, 'RFn':2, 'Unf':1, 'NA':0})\n",
    "df_train['paved_drive'].map({'Y':2, 'P':1, 'N':0})\n",
    "df_train['fence'].map({'GdPrv':4, 'MnPrv':3, 'GdWo':2, 'MnWw':1, 'NA':0});"
   ]
  },
  {
   "cell_type": "code",
   "execution_count": 12,
   "id": "22f35eaa-7bd3-464b-b5f0-f7c29e11ed6f",
   "metadata": {},
   "outputs": [],
   "source": [
    "df_test['lot_shape'].map({'Reg':3, 'IR1':2, 'IR2':1, 'IR3':0})\n",
    "df_test['utilities'].map({'AllPub':3, 'NoSewr':2, 'NoSeWa':1, 'ELO':0})\n",
    "df_test['land_slope'].map({'Gtl':2, 'Mod':1, 'Sev':0})\n",
    "df_test['bsmt_exposure'].map({'Gd':4, 'Av':3, 'Mn':2, 'No':1, 'NA':0})\n",
    "df_test['bsmtfin_type_1'].map({'GLQ':6, 'ALQ':5, 'BLQ':4, 'Rec':3, 'LwQ':2, 'Unf':1, 'NA':0})\n",
    "df_test['bsmtfin_type_2'].map({'GLQ':6, 'ALQ':5, 'BLQ':4, 'Rec':3, 'LwQ':2, 'Unf':1, 'NA':0})\n",
    "df_test['electrical'].map({'SBrkr':4, 'FuseA':3, 'FuseF':2, 'FuseP':1, 'Mix':2})\n",
    "df_test['functional'].map({'Typ':7, 'Min1':6, 'Min2':5, 'Mod':4, 'Maj1':3, 'Maj2':2, 'Sev':1, 'Sal':0})\n",
    "df_test['garage_finish'].map({'Fin':3, 'RFn':2, 'Unf':1, 'NA':0})\n",
    "df_test['paved_drive'].map({'Y':2, 'P':1, 'N':0})\n",
    "df_test['fence'].map({'GdPrv':4, 'MnPrv':3, 'GdWo':2, 'MnWw':1, 'NA':0});"
   ]
  },
  {
   "cell_type": "code",
   "execution_count": 13,
   "id": "f405d59e-c6e0-4004-8fc0-4c4eff61d9f9",
   "metadata": {},
   "outputs": [],
   "source": [
    "df_train.isnull().sum().sum();"
   ]
  },
  {
   "cell_type": "code",
   "execution_count": 14,
   "id": "021d6c90-3eea-474c-b9f1-e86aaaaecec8",
   "metadata": {},
   "outputs": [
    {
     "data": {
      "text/plain": [
       "lot_frontage      330\n",
       "garage_yr_blt     114\n",
       "mas_vnr_type       22\n",
       "mas_vnr_area       22\n",
       "bsmt_exposure       4\n",
       "bsmtfin_type_2      2\n",
       "bsmt_full_bath      2\n",
       "bsmt_half_bath      2\n",
       "garage_cond         1\n",
       "bsmt_qual           1\n",
       "garage_finish       1\n",
       "garage_cars         1\n",
       "garage_area         1\n",
       "garage_qual         1\n",
       "total_bsmt_sf       1\n",
       "bsmtfin_type_1      1\n",
       "bsmt_cond           1\n",
       "bsmtfin_sf_1        1\n",
       "bsmtfin_sf_2        1\n",
       "bsmt_unf_sf         1\n",
       "dtype: int64"
      ]
     },
     "execution_count": 14,
     "metadata": {},
     "output_type": "execute_result"
    }
   ],
   "source": [
    "df_train.isnull().sum().sort_values(ascending = False).loc[lambda x: x > 0]"
   ]
  },
  {
   "cell_type": "code",
   "execution_count": 15,
   "id": "4480f292-ce22-4abd-9a1d-17c8b0361b49",
   "metadata": {},
   "outputs": [
    {
     "data": {
      "text/plain": [
       "(2051, 81)"
      ]
     },
     "execution_count": 15,
     "metadata": {},
     "output_type": "execute_result"
    }
   ],
   "source": [
    "df_train.shape"
   ]
  },
  {
   "cell_type": "code",
   "execution_count": 16,
   "id": "acdb471f-0a28-4394-91e9-005f34d09fe3",
   "metadata": {},
   "outputs": [
    {
     "data": {
      "text/plain": [
       "(878, 80)"
      ]
     },
     "execution_count": 16,
     "metadata": {},
     "output_type": "execute_result"
    }
   ],
   "source": [
    "df_test.shape"
   ]
  },
  {
   "cell_type": "code",
   "execution_count": 17,
   "id": "5d892299-405b-44cf-860d-2b659196c448",
   "metadata": {},
   "outputs": [],
   "source": [
    "df_train = df_train.drop(columns=['lot_frontage','garage_yr_blt'])\n",
    "df_train = df_train[df_train['gr_liv_area'] < 4000]\n",
    "#for now, removing these columns due to amount of nulls\n",
    "df_test = df_test.drop(columns=['lot_frontage','garage_yr_blt'])"
   ]
  },
  {
   "cell_type": "code",
   "execution_count": 18,
   "id": "a334e00e-4e49-4af5-8ac0-43027fed5c83",
   "metadata": {},
   "outputs": [],
   "source": [
    "df_train = df_train.dropna()\n",
    "#removing rows with nulls because there are only 29 left with nulls"
   ]
  },
  {
   "cell_type": "code",
   "execution_count": 19,
   "id": "a48ab9f2-024d-47f9-9deb-8497a773bfdd",
   "metadata": {},
   "outputs": [
    {
     "data": {
      "text/plain": [
       "0"
      ]
     },
     "execution_count": 19,
     "metadata": {},
     "output_type": "execute_result"
    }
   ],
   "source": [
    "df_train.isnull().sum().sum()"
   ]
  },
  {
   "cell_type": "code",
   "execution_count": 20,
   "id": "51ca5466-fb82-4b46-9564-5de67a7dc1d3",
   "metadata": {},
   "outputs": [
    {
     "data": {
      "text/plain": [
       "[Text(0.5, 1.0, 'Sale Prices')]"
      ]
     },
     "execution_count": 20,
     "metadata": {},
     "output_type": "execute_result"
    },
    {
     "data": {
      "image/png": "[encoded data removed]",
      "text/plain": [
       "<Figure size 720x504 with 1 Axes>"
      ]
     },
     "metadata": {
      "needs_background": "light"
     },
     "output_type": "display_data"
    }
   ],
   "source": [
    "plt.figure(figsize=(10,7))\n",
    "sns.set(style=\"darkgrid\")\n",
    "sns.histplot(data=df_train, x='saleprice', kde=True, bins=50).set(title='Sale Prices')"
   ]
  },
  {
   "cell_type": "code",
   "execution_count": 21,
   "id": "abf371ba-03a3-4c10-88ae-16ccf82fc003",
   "metadata": {},
   "outputs": [
    {
     "data": {
      "text/plain": [
       "(2020, 79)"
      ]
     },
     "execution_count": 21,
     "metadata": {},
     "output_type": "execute_result"
    }
   ],
   "source": [
    "df_train.shape"
   ]
  },
  {
   "cell_type": "code",
   "execution_count": 22,
   "id": "eb8d9a96-7a8d-410e-ae98-1937c69a7210",
   "metadata": {},
   "outputs": [
    {
     "data": {
      "text/plain": [
       "(878, 78)"
      ]
     },
     "execution_count": 22,
     "metadata": {},
     "output_type": "execute_result"
    }
   ],
   "source": [
    "df_test.shape"
   ]
  },
  {
   "cell_type": "code",
   "execution_count": 23,
   "id": "2b5bd623-598e-4229-9365-f56a4328501f",
   "metadata": {},
   "outputs": [
    {
     "data": {
      "text/plain": [
       "[Text(0.5, 1.0, 'Sale Prices')]"
      ]
     },
     "execution_count": 23,
     "metadata": {},
     "output_type": "execute_result"
    },
    {
     "data": {
      "image/png": "[encoded data removed]",
      "text/plain": [
       "<Figure size 720x504 with 1 Axes>"
      ]
     },
     "metadata": {},
     "output_type": "display_data"
    }
   ],
   "source": [
    "plt.figure(figsize=(10,7))\n",
    "sns.set(style=\"darkgrid\")\n",
    "sns.histplot(data=df_train, x='saleprice', kde=True, bins=50).set(title='Sale Prices')"
   ]
  },
  {
   "cell_type": "code",
   "execution_count": 24,
   "id": "453db0f8-d70f-4636-afaa-f710ee142530",
   "metadata": {},
   "outputs": [
    {
     "data": {
      "text/plain": [
       "saleprice          1.000000\n",
       "overall_qual       0.803514\n",
       "gr_liv_area        0.722081\n",
       "exter_qual         0.714685\n",
       "kitchen_qual       0.692900\n",
       "total_bsmt_sf      0.670084\n",
       "1st_flr_sf         0.654955\n",
       "garage_area        0.653647\n",
       "garage_cars        0.647134\n",
       "bsmt_qual          0.616083\n",
       "year_built         0.572137\n",
       "year_remod/add     0.549573\n",
       "full_bath          0.538901\n",
       "fireplace_qu       0.537753\n",
       "mas_vnr_area       0.520235\n",
       "totrms_abvgrd      0.511058\n",
       "fireplaces         0.473982\n",
       "heating_qc         0.458245\n",
       "bsmtfin_sf_1       0.447272\n",
       "open_porch_sf      0.331803\n",
       "wood_deck_sf       0.330638\n",
       "lot_area           0.303246\n",
       "bsmt_full_bath     0.285711\n",
       "garage_qual        0.285313\n",
       "half_bath          0.279937\n",
       "2nd_flr_sf         0.252081\n",
       "bsmt_cond          0.224575\n",
       "bsmt_unf_sf        0.189719\n",
       "bedroom_abvgr      0.138619\n",
       "screen_porch       0.138200\n",
       "3ssn_porch         0.050002\n",
       "exter_cond         0.038648\n",
       "pool_qc            0.034742\n",
       "pool_area          0.026527\n",
       "mo_sold            0.025290\n",
       "bsmtfin_sf_2       0.017876\n",
       "misc_val          -0.009576\n",
       "yr_sold           -0.011850\n",
       "low_qual_fin_sf   -0.041062\n",
       "bsmt_half_bath    -0.043839\n",
       "id                -0.054196\n",
       "ms_subclass       -0.084649\n",
       "overall_cond      -0.093780\n",
       "kitchen_abvgr     -0.126093\n",
       "enclosed_porch    -0.137754\n",
       "pid               -0.251877\n",
       "Name: saleprice, dtype: float64"
      ]
     },
     "execution_count": 24,
     "metadata": {},
     "output_type": "execute_result"
    }
   ],
   "source": [
    "df_train.corr().saleprice.sort_values(ascending=False)"
   ]
  },
  {
   "cell_type": "code",
   "execution_count": 25,
   "id": "4c0e76db-f2e1-429a-bb4c-faab9c6e97e5",
   "metadata": {},
   "outputs": [],
   "source": [
    "df_train['all_sf'] = df_train['total_bsmt_sf'] + df_train['gr_liv_area']\n",
    "df_train['all_bath'] = df_train['bsmt_full_bath'] + .5 * df_train['bsmt_half_bath'] + df_train['full_bath'] + .5 * df_train['half_bath']\n",
    "\n",
    "df_test['all_sf'] = df_test['total_bsmt_sf'] + df_test['gr_liv_area']\n",
    "df_test['all_bath'] = df_test['bsmt_full_bath'] + .5 * df_test['bsmt_half_bath'] + df_test['full_bath'] + .5 * df_test['half_bath']"
   ]
  },
  {
   "cell_type": "code",
   "execution_count": 26,
   "id": "991887e2-5a2e-4f9b-83f8-ef15ebef1515",
   "metadata": {},
   "outputs": [
    {
     "data": {
      "text/plain": [
       "saleprice          1.000000\n",
       "all_sf             0.827179\n",
       "overall_qual       0.803514\n",
       "gr_liv_area        0.722081\n",
       "exter_qual         0.714685\n",
       "kitchen_qual       0.692900\n",
       "total_bsmt_sf      0.670084\n",
       "1st_flr_sf         0.654955\n",
       "garage_area        0.653647\n",
       "garage_cars        0.647134\n",
       "all_bath           0.631965\n",
       "bsmt_qual          0.616083\n",
       "year_built         0.572137\n",
       "year_remod/add     0.549573\n",
       "full_bath          0.538901\n",
       "fireplace_qu       0.537753\n",
       "mas_vnr_area       0.520235\n",
       "totrms_abvgrd      0.511058\n",
       "fireplaces         0.473982\n",
       "heating_qc         0.458245\n",
       "bsmtfin_sf_1       0.447272\n",
       "open_porch_sf      0.331803\n",
       "wood_deck_sf       0.330638\n",
       "lot_area           0.303246\n",
       "bsmt_full_bath     0.285711\n",
       "garage_qual        0.285313\n",
       "half_bath          0.279937\n",
       "2nd_flr_sf         0.252081\n",
       "bsmt_cond          0.224575\n",
       "bsmt_unf_sf        0.189719\n",
       "bedroom_abvgr      0.138619\n",
       "screen_porch       0.138200\n",
       "3ssn_porch         0.050002\n",
       "exter_cond         0.038648\n",
       "pool_qc            0.034742\n",
       "pool_area          0.026527\n",
       "mo_sold            0.025290\n",
       "bsmtfin_sf_2       0.017876\n",
       "misc_val          -0.009576\n",
       "yr_sold           -0.011850\n",
       "low_qual_fin_sf   -0.041062\n",
       "bsmt_half_bath    -0.043839\n",
       "id                -0.054196\n",
       "ms_subclass       -0.084649\n",
       "overall_cond      -0.093780\n",
       "kitchen_abvgr     -0.126093\n",
       "enclosed_porch    -0.137754\n",
       "pid               -0.251877\n",
       "Name: saleprice, dtype: float64"
      ]
     },
     "execution_count": 26,
     "metadata": {},
     "output_type": "execute_result"
    }
   ],
   "source": [
    "df_train.corr().saleprice.sort_values(ascending=False)"
   ]
  },
  {
   "cell_type": "code",
   "execution_count": 27,
   "id": "925005e4-9439-4036-b784-c861a7c42a24",
   "metadata": {},
   "outputs": [
    {
     "data": {
      "text/plain": [
       "[Text(0.5, 1.0, 'Sale Price by Overall Quality')]"
      ]
     },
     "execution_count": 27,
     "metadata": {},
     "output_type": "execute_result"
    },
    {
     "data": {
      "image/png": "[encoded data removed]",
      "text/plain": [
       "<Figure size 432x288 with 1 Axes>"
      ]
     },
     "metadata": {},
     "output_type": "display_data"
    }
   ],
   "source": [
    "#1\n",
    "\n",
    "sns.boxplot(data=df_train, x=\"overall_qual\", y='saleprice').set(title='Sale Price by Overall Quality')"
   ]
  },
  {
   "cell_type": "code",
   "execution_count": 28,
   "id": "52e68f04-f572-481b-8973-3690f6ab8065",
   "metadata": {},
   "outputs": [
    {
     "data": {
      "text/plain": [
       "[Text(0.5, 1.0, 'Sale Price by Ground Living Area')]"
      ]
     },
     "execution_count": 28,
     "metadata": {},
     "output_type": "execute_result"
    },
    {
     "data": {
      "image/png": "[encoded data removed]",
      "text/plain": [
       "<Figure size 432x288 with 1 Axes>"
      ]
     },
     "metadata": {},
     "output_type": "display_data"
    }
   ],
   "source": [
    "#2\n",
    "\n",
    "sns.boxplot(data=df_train, x=\"exter_qual\", y='saleprice').set(title='Sale Price by Ground Living Area')"
   ]
  },
  {
   "cell_type": "code",
   "execution_count": 29,
   "id": "6185647e-c9d1-465f-9d00-f8005ed01b82",
   "metadata": {},
   "outputs": [
    {
     "data": {
      "text/plain": [
       "[Text(0.5, 1.0, 'Sale Price by Ground Living Area')]"
      ]
     },
     "execution_count": 29,
     "metadata": {},
     "output_type": "execute_result"
    },
    {
     "data": {
      "image/png": "[encoded data removed]",
      "text/plain": [
       "<Figure size 432x288 with 1 Axes>"
      ]
     },
     "metadata": {},
     "output_type": "display_data"
    }
   ],
   "source": [
    "#3\n",
    "\n",
    "sns.regplot(data=df_train, x=\"gr_liv_area\", y='saleprice').set(title='Sale Price by Ground Living Area')"
   ]
  },
  {
   "cell_type": "code",
   "execution_count": 30,
   "id": "62c2add5-9090-4f48-abde-208b7ffed53b",
   "metadata": {},
   "outputs": [
    {
     "data": {
      "text/plain": [
       "[Text(0.5, 1.0, 'Sale Price by Year Remodeled')]"
      ]
     },
     "execution_count": 30,
     "metadata": {},
     "output_type": "execute_result"
    },
    {
     "data": {
      "image/png": "[encoded data removed]",
      "text/plain": [
       "<Figure size 432x288 with 1 Axes>"
      ]
     },
     "metadata": {},
     "output_type": "display_data"
    }
   ],
   "source": [
    "#4\n",
    "\n",
    "sns.boxplot(data=df_train, x=\"kitchen_qual\", y='saleprice').set(title='Sale Price by Year Remodeled')"
   ]
  },
  {
   "cell_type": "code",
   "execution_count": 31,
   "id": "d515dfb0-4bac-4387-bde2-a36412536fd6",
   "metadata": {},
   "outputs": [
    {
     "data": {
      "text/plain": [
       "[Text(0.5, 1.0, 'Sale Price by Total Basement Square Footage')]"
      ]
     },
     "execution_count": 31,
     "metadata": {},
     "output_type": "execute_result"
    },
    {
     "data": {
      "image/png": "[encoded data removed]",
      "text/plain": [
       "<Figure size 432x288 with 1 Axes>"
      ]
     },
     "metadata": {},
     "output_type": "display_data"
    }
   ],
   "source": [
    "#5\n",
    "\n",
    "sns.boxplot(data=df_train, x=\"garage_cars\", y='saleprice').set(title='Sale Price by Total Basement Square Footage')"
   ]
  },
  {
   "cell_type": "code",
   "execution_count": 32,
   "id": "09b0fcff-80bc-4d9f-9940-11fdb95afe16",
   "metadata": {},
   "outputs": [
    {
     "data": {
      "text/plain": [
       "[Text(0.5, 1.0, 'Sale Price by Lot Area')]"
      ]
     },
     "execution_count": 32,
     "metadata": {},
     "output_type": "execute_result"
    },
    {
     "data": {
      "image/png": "[encoded data removed]",
      "text/plain": [
       "<Figure size 432x288 with 1 Axes>"
      ]
     },
     "metadata": {},
     "output_type": "display_data"
    }
   ],
   "source": [
    "sns.regplot(data=df_train, x=\"lot_area\", y='saleprice').set(title='Sale Price by Lot Area')"
   ]
  },
  {
   "cell_type": "code",
   "execution_count": 33,
   "id": "4c634b73-8121-4ba0-9863-347c2933aa5d",
   "metadata": {},
   "outputs": [
    {
     "data": {
      "text/plain": [
       "(6576.963804908319, 9995.35594059406)"
      ]
     },
     "execution_count": 33,
     "metadata": {},
     "output_type": "execute_result"
    }
   ],
   "source": [
    "std_lot_area = df_train['lot_area'].std()\n",
    "mean_lot_area = df_train['lot_area'].mean()\n",
    "std_lot_area, mean_lot_area"
   ]
  },
  {
   "cell_type": "code",
   "execution_count": 34,
   "id": "1621db15-6752-4d11-bf8b-8338dc54f317",
   "metadata": {},
   "outputs": [],
   "source": [
    "df_train = df_train[df_train['lot_area'] < mean_lot_area + (3*std_lot_area)]"
   ]
  },
  {
   "cell_type": "code",
   "execution_count": 35,
   "id": "9384e1e3-3e45-437d-af4a-072bb8a89002",
   "metadata": {},
   "outputs": [
    {
     "data": {
      "text/plain": [
       "[Text(0.5, 1.0, 'Sale Price by Masonry Veneer Area')]"
      ]
     },
     "execution_count": 35,
     "metadata": {},
     "output_type": "execute_result"
    },
    {
     "data": {
      "image/png": "[encoded data removed]",
      "text/plain": [
       "<Figure size 432x288 with 1 Axes>"
      ]
     },
     "metadata": {},
     "output_type": "display_data"
    }
   ],
   "source": [
    "sns.regplot(data=df_train, x=\"mas_vnr_area\", y='saleprice').set(title='Sale Price by Masonry Veneer Area')"
   ]
  },
  {
   "cell_type": "code",
   "execution_count": 36,
   "id": "f98aae0a-5d30-4bbc-9a8c-e2789fc3fda0",
   "metadata": {},
   "outputs": [
    {
     "data": {
      "text/plain": [
       "(171.03907336261764, 97.911955977989)"
      ]
     },
     "execution_count": 36,
     "metadata": {},
     "output_type": "execute_result"
    }
   ],
   "source": [
    "std_mva = df_train['mas_vnr_area'].std()\n",
    "mean_mva = df_train['mas_vnr_area'].mean()\n",
    "std_mva, mean_mva"
   ]
  },
  {
   "cell_type": "code",
   "execution_count": 37,
   "id": "ee052ccc-0007-473e-b41c-912d791c012a",
   "metadata": {},
   "outputs": [],
   "source": [
    "df_train = df_train[df_train['mas_vnr_area'] < mean_mva + (3*std_mva)]"
   ]
  },
  {
   "cell_type": "code",
   "execution_count": 38,
   "id": "c68f3900-2681-45f5-8b1a-1cf4125d246c",
   "metadata": {},
   "outputs": [
    {
     "data": {
      "text/plain": [
       "(1956, 81)"
      ]
     },
     "execution_count": 38,
     "metadata": {},
     "output_type": "execute_result"
    }
   ],
   "source": [
    "df_train.shape"
   ]
  },
  {
   "cell_type": "code",
   "execution_count": 39,
   "id": "1a0a347a-8055-4ece-bde2-783a0646e486",
   "metadata": {},
   "outputs": [
    {
     "data": {
      "text/plain": [
       "(878, 80)"
      ]
     },
     "execution_count": 39,
     "metadata": {},
     "output_type": "execute_result"
    }
   ],
   "source": [
    "df_test.shape"
   ]
  },
  {
   "cell_type": "markdown",
   "id": "07858acf-e3f2-4ddb-8f73-fe587ec762e7",
   "metadata": {},
   "source": [
    "<br>\n",
    "\n",
    "### Preprocessing and Modelling"
   ]
  },
  {
   "cell_type": "markdown",
   "id": "45667d67-ce4f-4cac-889b-17ede5c2e064",
   "metadata": {},
   "source": [
    "----"
   ]
  },
  {
   "cell_type": "code",
   "execution_count": 40,
   "id": "ef3704a3-d609-4157-b153-fc28293e1724",
   "metadata": {},
   "outputs": [],
   "source": [
    "df_train = df_train.fillna(0)\n",
    "df_test = df_test.fillna(0)"
   ]
  },
  {
   "cell_type": "code",
   "execution_count": 41,
   "id": "1eb8d5ab-6718-4537-984f-b85ef38faeb5",
   "metadata": {},
   "outputs": [],
   "source": [
    "X = df_train.drop(columns = ['id', 'pid', 'saleprice'])\n",
    "y = df_train['saleprice']\n",
    "\n",
    "X_train, X_val, y_train, y_val = train_test_split(X, y, test_size=0.2, random_state = 42)"
   ]
  },
  {
   "cell_type": "code",
   "execution_count": 42,
   "id": "e2b0d160-4bd8-49d8-9258-59f50b46e3ac",
   "metadata": {},
   "outputs": [],
   "source": [
    "numeric = [col for col in df_train._get_numeric_data().columns if col not in ['id', 'pid', 'saleprice']]\n"
   ]
  },
  {
   "cell_type": "code",
   "execution_count": 43,
   "id": "d5dc05c6-7c50-436a-8def-1f8f7b01c214",
   "metadata": {},
   "outputs": [],
   "source": [
    "categorical = [col for col in df_train.columns if col not in numeric and col not in ['id', 'pid', 'saleprice']]\n"
   ]
  },
  {
   "cell_type": "code",
   "execution_count": 44,
   "id": "63d10ab1-8f1e-4862-9b62-a284e324520b",
   "metadata": {},
   "outputs": [],
   "source": [
    "df_train['saleprice'] = np.log(df_train['saleprice'])"
   ]
  },
  {
   "cell_type": "code",
   "execution_count": 45,
   "id": "762c21a3-6af9-497c-a5e2-df5157499981",
   "metadata": {},
   "outputs": [],
   "source": [
    "ctx = ColumnTransformer(\n",
    "    [('ss', StandardScaler(), numeric),\n",
    "    ('ohe', OneHotEncoder(handle_unknown='ignore'), categorical)\n",
    "])"
   ]
  },
  {
   "cell_type": "code",
   "execution_count": 46,
   "id": "4f0b5b26-c318-4dbf-8b8e-416d4e61212b",
   "metadata": {},
   "outputs": [],
   "source": [
    "lasso_pipe = Pipeline([\n",
    "    ('ct', ctx),\n",
    "    ('model', LassoCV())\n",
    "])\n",
    "\n",
    "lasso_pipe_params = {\n",
    "    'ct__remainder' : ['passthrough'],\n",
    "    'ct__ss__with_mean' : [True, False],\n",
    "}"
   ]
  },
  {
   "cell_type": "code",
   "execution_count": 47,
   "id": "7f6428aa-c5a7-4778-8789-7044d2749853",
   "metadata": {},
   "outputs": [],
   "source": [
    "gs_lasso = GridSearchCV(\n",
    "    lasso_pipe,\n",
    "    lasso_pipe_params,\n",
    "    cv = 5,\n",
    "    verbose = 2,\n",
    "    error_score = 'raise'\n",
    ")"
   ]
  },
  {
   "cell_type": "code",
   "execution_count": 48,
   "id": "ed2db464-8eb4-444f-a37d-c97799138ebf",
   "metadata": {},
   "outputs": [
    {
     "name": "stdout",
     "output_type": "stream",
     "text": [
      "Fitting 5 folds for each of 2 candidates, totalling 10 fits\n",
      "[CV] END ..ct__remainder=passthrough, ct__ss__with_mean=True; total time=   0.3s\n",
      "[CV] END ..ct__remainder=passthrough, ct__ss__with_mean=True; total time=   0.6s\n",
      "[CV] END ..ct__remainder=passthrough, ct__ss__with_mean=True; total time=   0.7s\n",
      "[CV] END ..ct__remainder=passthrough, ct__ss__with_mean=True; total time=   0.5s\n",
      "[CV] END ..ct__remainder=passthrough, ct__ss__with_mean=True; total time=   0.6s\n",
      "[CV] END .ct__remainder=passthrough, ct__ss__with_mean=False; total time=   0.6s\n",
      "[CV] END .ct__remainder=passthrough, ct__ss__with_mean=False; total time=   0.5s\n",
      "[CV] END .ct__remainder=passthrough, ct__ss__with_mean=False; total time=   0.7s\n",
      "[CV] END .ct__remainder=passthrough, ct__ss__with_mean=False; total time=   0.7s\n",
      "[CV] END .ct__remainder=passthrough, ct__ss__with_mean=False; total time=   0.7s\n"
     ]
    },
    {
     "data": {
      "text/plain": [
       "GridSearchCV(cv=5, error_score='raise',\n",
       "             estimator=Pipeline(steps=[('ct',\n",
       "                                        ColumnTransformer(transformers=[('ss',\n",
       "                                                                         StandardScaler(),\n",
       "                                                                         ['ms_subclass',\n",
       "                                                                          'lot_area',\n",
       "                                                                          'overall_qual',\n",
       "                                                                          'overall_cond',\n",
       "                                                                          'year_built',\n",
       "                                                                          'year_remod/add',\n",
       "                                                                          'mas_vnr_area',\n",
       "                                                                          'exter_qual',\n",
       "                                                                          'exter_cond',\n",
       "                                                                          'bsmt_qual',\n",
       "                                                                          'bsmt_cond',\n",
       "                                                                          'bsmtfin_sf_1',\n",
       "                                                                          'bsmtfin_sf_2',\n",
       "                                                                          'bsmt_unf_sf',\n",
       "                                                                          'total_bsmt_sf',\n",
       "                                                                          'heating_qc',\n",
       "                                                                          '...\n",
       "                                                                          'roof_style',\n",
       "                                                                          'roof_matl',\n",
       "                                                                          'exterior_1st',\n",
       "                                                                          'exterior_2nd',\n",
       "                                                                          'mas_vnr_type',\n",
       "                                                                          'foundation',\n",
       "                                                                          'bsmt_exposure',\n",
       "                                                                          'bsmtfin_type_1',\n",
       "                                                                          'bsmtfin_type_2',\n",
       "                                                                          'heating',\n",
       "                                                                          'central_air',\n",
       "                                                                          'electrical',\n",
       "                                                                          'functional',\n",
       "                                                                          'garage_type',\n",
       "                                                                          'garage_finish',\n",
       "                                                                          'garage_cond',\n",
       "                                                                          'paved_drive', ...])])),\n",
       "                                       ('model', LassoCV())]),\n",
       "             param_grid={'ct__remainder': ['passthrough'],\n",
       "                         'ct__ss__with_mean': [True, False]},\n",
       "             verbose=2)"
      ]
     },
     "execution_count": 48,
     "metadata": {},
     "output_type": "execute_result"
    }
   ],
   "source": [
    "gs_lasso.fit(X_train, y_train)"
   ]
  },
  {
   "cell_type": "code",
   "execution_count": 49,
   "id": "1707f65b-0536-4f04-9c7b-9548970b2483",
   "metadata": {},
   "outputs": [
    {
     "data": {
      "text/plain": [
       "0.9072311471284795"
      ]
     },
     "execution_count": 49,
     "metadata": {},
     "output_type": "execute_result"
    }
   ],
   "source": [
    "gs_lasso.best_score_"
   ]
  },
  {
   "cell_type": "code",
   "execution_count": 50,
   "id": "0e97fb3b-c72b-48c8-87cb-6d4719b89d79",
   "metadata": {},
   "outputs": [
    {
     "data": {
      "text/plain": [
       "Pipeline(steps=[('ct',\n",
       "                 ColumnTransformer(remainder='passthrough',\n",
       "                                   transformers=[('ss', StandardScaler(),\n",
       "                                                  ['ms_subclass', 'lot_area',\n",
       "                                                   'overall_qual',\n",
       "                                                   'overall_cond', 'year_built',\n",
       "                                                   'year_remod/add',\n",
       "                                                   'mas_vnr_area', 'exter_qual',\n",
       "                                                   'exter_cond', 'bsmt_qual',\n",
       "                                                   'bsmt_cond', 'bsmtfin_sf_1',\n",
       "                                                   'bsmtfin_sf_2',\n",
       "                                                   'bsmt_unf_sf',\n",
       "                                                   'total_bsmt_sf',\n",
       "                                                   'heating_qc', '1st_flr_sf',\n",
       "                                                   '2nd_flr_sf'...\n",
       "                                                   'lot_config', 'land_slope',\n",
       "                                                   'neighborhood',\n",
       "                                                   'condition_1', 'condition_2',\n",
       "                                                   'bldg_type', 'house_style',\n",
       "                                                   'roof_style', 'roof_matl',\n",
       "                                                   'exterior_1st',\n",
       "                                                   'exterior_2nd',\n",
       "                                                   'mas_vnr_type', 'foundation',\n",
       "                                                   'bsmt_exposure',\n",
       "                                                   'bsmtfin_type_1',\n",
       "                                                   'bsmtfin_type_2', 'heating',\n",
       "                                                   'central_air', 'electrical',\n",
       "                                                   'functional', 'garage_type',\n",
       "                                                   'garage_finish',\n",
       "                                                   'garage_cond', 'paved_drive', ...])])),\n",
       "                ('model', LassoCV())])"
      ]
     },
     "execution_count": 50,
     "metadata": {},
     "output_type": "execute_result"
    }
   ],
   "source": [
    "gs_lasso.best_estimator_"
   ]
  },
  {
   "cell_type": "code",
   "execution_count": 51,
   "id": "75fc4eba-474f-40fb-b5b3-4c9fd95e5dda",
   "metadata": {},
   "outputs": [
    {
     "data": {
      "text/plain": [
       "0.9259046640245007"
      ]
     },
     "execution_count": 51,
     "metadata": {},
     "output_type": "execute_result"
    }
   ],
   "source": [
    "gs_lasso.score(X_val, y_val)"
   ]
  },
  {
   "cell_type": "code",
   "execution_count": 52,
   "id": "b180d369-0b56-445f-93fa-ccdcd9a3bea8",
   "metadata": {},
   "outputs": [
    {
     "data": {
      "text/plain": [
       "{'ct__remainder': 'passthrough', 'ct__ss__with_mean': True}"
      ]
     },
     "execution_count": 52,
     "metadata": {},
     "output_type": "execute_result"
    }
   ],
   "source": [
    "gs_lasso.best_params_"
   ]
  },
  {
   "cell_type": "code",
   "execution_count": 53,
   "id": "c245af9c-b580-4a7d-b15e-ea28d424d53c",
   "metadata": {},
   "outputs": [],
   "source": [
    "test_id = df_test['id']"
   ]
  },
  {
   "cell_type": "code",
   "execution_count": 54,
   "id": "2bf10900-0ff0-4f56-8624-250a42288cd2",
   "metadata": {},
   "outputs": [],
   "source": [
    "df_train['saleprice'] = np.exp(df_train['saleprice'])"
   ]
  },
  {
   "cell_type": "code",
   "execution_count": 55,
   "id": "4aaf3ed3-e66a-4c8c-bc46-8a743214e275",
   "metadata": {},
   "outputs": [],
   "source": [
    "preds = gs_lasso.predict(df_test)"
   ]
  },
  {
   "cell_type": "code",
   "execution_count": 56,
   "id": "4685a2f9-9d0e-45bb-99d9-791e6650200f",
   "metadata": {},
   "outputs": [
    {
     "data": {
      "text/plain": [
       "{'ct__remainder': 'passthrough', 'ct__ss__with_mean': True}"
      ]
     },
     "execution_count": 56,
     "metadata": {},
     "output_type": "execute_result"
    }
   ],
   "source": [
    "gs_lasso.best_params_"
   ]
  },
  {
   "cell_type": "code",
   "execution_count": 57,
   "id": "ac163d14-34e7-4c70-87db-6b77d7aad727",
   "metadata": {},
   "outputs": [],
   "source": [
    "preds = gs_lasso.predict(df_test)"
   ]
  },
  {
   "cell_type": "code",
   "execution_count": 58,
   "id": "1c2762af-d160-42d3-96ca-3b90cb82634f",
   "metadata": {},
   "outputs": [],
   "source": [
    "preds = pd.DataFrame(preds, columns = ['saleprice'])"
   ]
  },
  {
   "cell_type": "code",
   "execution_count": 59,
   "id": "bf09d607-ff23-4f62-947e-8f47b0d960a9",
   "metadata": {},
   "outputs": [
    {
     "data": {
      "text/html": [
       "<div>\n",
       "<style scoped>\n",
       "    .dataframe tbody tr th:only-of-type {\n",
       "        vertical-align: middle;\n",
       "    }\n",
       "\n",
       "    .dataframe tbody tr th {\n",
       "        vertical-align: top;\n",
       "    }\n",
       "\n",
       "    .dataframe thead th {\n",
       "        text-align: right;\n",
       "    }\n",
       "</style>\n",
       "<table border=\"1\" class=\"dataframe\">\n",
       "  <thead>\n",
       "    <tr style=\"text-align: right;\">\n",
       "      <th></th>\n",
       "      <th>saleprice</th>\n",
       "    </tr>\n",
       "  </thead>\n",
       "  <tbody>\n",
       "    <tr>\n",
       "      <th>0</th>\n",
       "      <td>136484.484713</td>\n",
       "    </tr>\n",
       "    <tr>\n",
       "      <th>1</th>\n",
       "      <td>153706.802208</td>\n",
       "    </tr>\n",
       "    <tr>\n",
       "      <th>2</th>\n",
       "      <td>223763.651667</td>\n",
       "    </tr>\n",
       "    <tr>\n",
       "      <th>3</th>\n",
       "      <td>109987.713269</td>\n",
       "    </tr>\n",
       "    <tr>\n",
       "      <th>4</th>\n",
       "      <td>175059.071530</td>\n",
       "    </tr>\n",
       "    <tr>\n",
       "      <th>...</th>\n",
       "      <td>...</td>\n",
       "    </tr>\n",
       "    <tr>\n",
       "      <th>873</th>\n",
       "      <td>188852.800387</td>\n",
       "    </tr>\n",
       "    <tr>\n",
       "      <th>874</th>\n",
       "      <td>226135.622338</td>\n",
       "    </tr>\n",
       "    <tr>\n",
       "      <th>875</th>\n",
       "      <td>122320.265911</td>\n",
       "    </tr>\n",
       "    <tr>\n",
       "      <th>876</th>\n",
       "      <td>107396.870632</td>\n",
       "    </tr>\n",
       "    <tr>\n",
       "      <th>877</th>\n",
       "      <td>119889.217199</td>\n",
       "    </tr>\n",
       "  </tbody>\n",
       "</table>\n",
       "<p>878 rows × 1 columns</p>\n",
       "</div>"
      ],
      "text/plain": [
       "         saleprice\n",
       "0    136484.484713\n",
       "1    153706.802208\n",
       "2    223763.651667\n",
       "3    109987.713269\n",
       "4    175059.071530\n",
       "..             ...\n",
       "873  188852.800387\n",
       "874  226135.622338\n",
       "875  122320.265911\n",
       "876  107396.870632\n",
       "877  119889.217199\n",
       "\n",
       "[878 rows x 1 columns]"
      ]
     },
     "execution_count": 59,
     "metadata": {},
     "output_type": "execute_result"
    }
   ],
   "source": [
    "preds"
   ]
  },
  {
   "cell_type": "code",
   "execution_count": 60,
   "id": "ae473289-9509-49d5-9e2a-73efe56c85a6",
   "metadata": {},
   "outputs": [],
   "source": [
    "preds.insert(loc = 0, column = 'Id', value = test_id)"
   ]
  },
  {
   "cell_type": "code",
   "execution_count": 61,
   "id": "50a7e78c-dde2-4e8e-8e80-8a0f89ec7b09",
   "metadata": {
    "tags": []
   },
   "outputs": [
    {
     "data": {
      "text/plain": [
       "(878, 2)"
      ]
     },
     "execution_count": 61,
     "metadata": {},
     "output_type": "execute_result"
    }
   ],
   "source": [
    "preds.shape\n"
   ]
  }
 ],
 "metadata": {
  "kernelspec": {
   "display_name": "Python 3 (ipykernel)",
   "language": "python",
   "name": "python3"
  },
  "language_info": {
   "codemirror_mode": {
    "name": "ipython",
    "version": 3
   },
   "file_extension": ".py",
   "mimetype": "text/x-python",
   "name": "python",
   "nbconvert_exporter": "python",
   "pygments_lexer": "ipython3",
   "version": "3.9.7"
  }
 },
 "nbformat": 4,
 "nbformat_minor": 5
}
